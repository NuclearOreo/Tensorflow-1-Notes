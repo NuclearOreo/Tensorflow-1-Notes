{
 "cells": [
  {
   "cell_type": "markdown",
   "metadata": {},
   "source": [
    "# Keras"
   ]
  },
  {
   "cell_type": "code",
   "execution_count": 1,
   "metadata": {},
   "outputs": [],
   "source": [
    "from sklearn.datasets import load_wine"
   ]
  },
  {
   "cell_type": "code",
   "execution_count": 2,
   "metadata": {},
   "outputs": [],
   "source": [
    "wine = load_wine()"
   ]
  },
  {
   "cell_type": "code",
   "execution_count": 3,
   "metadata": {},
   "outputs": [
    {
     "data": {
      "text/plain": [
       "sklearn.utils.Bunch"
      ]
     },
     "execution_count": 3,
     "metadata": {},
     "output_type": "execute_result"
    }
   ],
   "source": [
    "type(wine)"
   ]
  },
  {
   "cell_type": "code",
   "execution_count": 4,
   "metadata": {},
   "outputs": [
    {
     "data": {
      "text/plain": [
       "dict_keys(['data', 'target', 'target_names', 'DESCR', 'feature_names'])"
      ]
     },
     "execution_count": 4,
     "metadata": {},
     "output_type": "execute_result"
    }
   ],
   "source": [
    "wine.keys()"
   ]
  },
  {
   "cell_type": "code",
   "execution_count": 5,
   "metadata": {},
   "outputs": [
    {
     "name": "stdout",
     "output_type": "stream",
     "text": [
      ".. _wine_dataset:\n",
      "\n",
      "Wine recognition dataset\n",
      "------------------------\n",
      "\n",
      "**Data Set Characteristics:**\n",
      "\n",
      "    :Number of Instances: 178 (50 in each of three classes)\n",
      "    :Number of Attributes: 13 numeric, predictive attributes and the class\n",
      "    :Attribute Information:\n",
      " \t\t- Alcohol\n",
      " \t\t- Malic acid\n",
      " \t\t- Ash\n",
      "\t\t- Alcalinity of ash  \n",
      " \t\t- Magnesium\n",
      "\t\t- Total phenols\n",
      " \t\t- Flavanoids\n",
      " \t\t- Nonflavanoid phenols\n",
      " \t\t- Proanthocyanins\n",
      "\t\t- Color intensity\n",
      " \t\t- Hue\n",
      " \t\t- OD280/OD315 of diluted wines\n",
      " \t\t- Proline\n",
      "\n",
      "    - class:\n",
      "            - class_0\n",
      "            - class_1\n",
      "            - class_2\n",
      "\t\t\n",
      "    :Summary Statistics:\n",
      "    \n",
      "    ============================= ==== ===== ======= =====\n",
      "                                   Min   Max   Mean     SD\n",
      "    ============================= ==== ===== ======= =====\n",
      "    Alcohol:                      11.0  14.8    13.0   0.8\n",
      "    Malic Acid:                   0.74  5.80    2.34  1.12\n",
      "    Ash:                          1.36  3.23    2.36  0.27\n",
      "    Alcalinity of Ash:            10.6  30.0    19.5   3.3\n",
      "    Magnesium:                    70.0 162.0    99.7  14.3\n",
      "    Total Phenols:                0.98  3.88    2.29  0.63\n",
      "    Flavanoids:                   0.34  5.08    2.03  1.00\n",
      "    Nonflavanoid Phenols:         0.13  0.66    0.36  0.12\n",
      "    Proanthocyanins:              0.41  3.58    1.59  0.57\n",
      "    Colour Intensity:              1.3  13.0     5.1   2.3\n",
      "    Hue:                          0.48  1.71    0.96  0.23\n",
      "    OD280/OD315 of diluted wines: 1.27  4.00    2.61  0.71\n",
      "    Proline:                       278  1680     746   315\n",
      "    ============================= ==== ===== ======= =====\n",
      "\n",
      "    :Missing Attribute Values: None\n",
      "    :Class Distribution: class_0 (59), class_1 (71), class_2 (48)\n",
      "    :Creator: R.A. Fisher\n",
      "    :Donor: Michael Marshall (MARSHALL%PLU@io.arc.nasa.gov)\n",
      "    :Date: July, 1988\n",
      "\n",
      "This is a copy of UCI ML Wine recognition datasets.\n",
      "https://archive.ics.uci.edu/ml/machine-learning-databases/wine/wine.data\n",
      "\n",
      "The data is the results of a chemical analysis of wines grown in the same\n",
      "region in Italy by three different cultivators. There are thirteen different\n",
      "measurements taken for different constituents found in the three types of\n",
      "wine.\n",
      "\n",
      "Original Owners: \n",
      "\n",
      "Forina, M. et al, PARVUS - \n",
      "An Extendible Package for Data Exploration, Classification and Correlation. \n",
      "Institute of Pharmaceutical and Food Analysis and Technologies,\n",
      "Via Brigata Salerno, 16147 Genoa, Italy.\n",
      "\n",
      "Citation:\n",
      "\n",
      "Lichman, M. (2013). UCI Machine Learning Repository\n",
      "[https://archive.ics.uci.edu/ml]. Irvine, CA: University of California,\n",
      "School of Information and Computer Science. \n",
      "\n",
      ".. topic:: References\n",
      "\n",
      "  (1) S. Aeberhard, D. Coomans and O. de Vel, \n",
      "  Comparison of Classifiers in High Dimensional Settings, \n",
      "  Tech. Rep. no. 92-02, (1992), Dept. of Computer Science and Dept. of  \n",
      "  Mathematics and Statistics, James Cook University of North Queensland. \n",
      "  (Also submitted to Technometrics). \n",
      "\n",
      "  The data was used with many others for comparing various \n",
      "  classifiers. The classes are separable, though only RDA \n",
      "  has achieved 100% correct classification. \n",
      "  (RDA : 100%, QDA 99.4%, LDA 98.9%, 1NN 96.1% (z-transformed data)) \n",
      "  (All results using the leave-one-out technique) \n",
      "\n",
      "  (2) S. Aeberhard, D. Coomans and O. de Vel, \n",
      "  \"THE CLASSIFICATION PERFORMANCE OF RDA\" \n",
      "  Tech. Rep. no. 92-01, (1992), Dept. of Computer Science and Dept. of \n",
      "  Mathematics and Statistics, James Cook University of North Queensland. \n",
      "  (Also submitted to Journal of Chemometrics).\n",
      "\n"
     ]
    }
   ],
   "source": [
    "print(wine['DESCR'])"
   ]
  },
  {
   "cell_type": "code",
   "execution_count": 6,
   "metadata": {},
   "outputs": [],
   "source": [
    "feat_data = wine['data']"
   ]
  },
  {
   "cell_type": "code",
   "execution_count": 7,
   "metadata": {},
   "outputs": [],
   "source": [
    "labels = wine['target']"
   ]
  },
  {
   "cell_type": "code",
   "execution_count": 8,
   "metadata": {},
   "outputs": [],
   "source": [
    "from sklearn.model_selection import train_test_split"
   ]
  },
  {
   "cell_type": "code",
   "execution_count": 9,
   "metadata": {},
   "outputs": [],
   "source": [
    "X_train, X_test, y_train, y_test = train_test_split(feat_data,labels, test_size=0.30, random_state=101)"
   ]
  },
  {
   "cell_type": "code",
   "execution_count": 10,
   "metadata": {},
   "outputs": [],
   "source": [
    "from sklearn.preprocessing import MinMaxScaler"
   ]
  },
  {
   "cell_type": "code",
   "execution_count": 11,
   "metadata": {},
   "outputs": [],
   "source": [
    "scaler = MinMaxScaler()"
   ]
  },
  {
   "cell_type": "code",
   "execution_count": 12,
   "metadata": {},
   "outputs": [],
   "source": [
    "scaled_x_train = scaler.fit_transform(X_train)"
   ]
  },
  {
   "cell_type": "code",
   "execution_count": 13,
   "metadata": {},
   "outputs": [],
   "source": [
    "scaled_x_test = scaler.transform(X_test)"
   ]
  },
  {
   "cell_type": "markdown",
   "metadata": {},
   "source": [
    "# Keras"
   ]
  },
  {
   "cell_type": "code",
   "execution_count": 14,
   "metadata": {},
   "outputs": [],
   "source": [
    "import tensorflow as tf"
   ]
  },
  {
   "cell_type": "code",
   "execution_count": 15,
   "metadata": {},
   "outputs": [],
   "source": [
    "from tensorflow.contrib.keras import models"
   ]
  },
  {
   "cell_type": "code",
   "execution_count": 16,
   "metadata": {},
   "outputs": [],
   "source": [
    "dnn_keras_model = models.Sequential()"
   ]
  },
  {
   "cell_type": "code",
   "execution_count": 17,
   "metadata": {},
   "outputs": [],
   "source": [
    "from tensorflow.contrib.keras import layers"
   ]
  },
  {
   "cell_type": "code",
   "execution_count": 18,
   "metadata": {},
   "outputs": [
    {
     "name": "stdout",
     "output_type": "stream",
     "text": [
      "WARNING:tensorflow:From /Users/ussamaazam/python-env/tensorflow-1.13-env/lib/python3.7/site-packages/tensorflow/python/ops/resource_variable_ops.py:435: colocate_with (from tensorflow.python.framework.ops) is deprecated and will be removed in a future version.\n",
      "Instructions for updating:\n",
      "Colocations handled automatically by placer.\n"
     ]
    }
   ],
   "source": [
    "dnn_keras_model.add(layers.Dense(units=13, input_dim=13, activation='relu'))"
   ]
  },
  {
   "cell_type": "code",
   "execution_count": 19,
   "metadata": {},
   "outputs": [],
   "source": [
    "dnn_keras_model.add(layers.Dense(units=13, activation='relu'))\n",
    "dnn_keras_model.add(layers.Dense(units=13, activation='relu'))"
   ]
  },
  {
   "cell_type": "code",
   "execution_count": 20,
   "metadata": {},
   "outputs": [],
   "source": [
    "dnn_keras_model.add(layers.Dense(units=3, activation='softmax'))"
   ]
  },
  {
   "cell_type": "code",
   "execution_count": 21,
   "metadata": {},
   "outputs": [],
   "source": [
    "from tensorflow.contrib.keras import losses, optimizers, metrics, activations"
   ]
  },
  {
   "cell_type": "code",
   "execution_count": 22,
   "metadata": {},
   "outputs": [],
   "source": [
    "dnn_keras_model.compile(optimizer='adam', loss='sparse_categorical_crossentropy', metrics=['accuracy'])"
   ]
  },
  {
   "cell_type": "code",
   "execution_count": 23,
   "metadata": {},
   "outputs": [
    {
     "name": "stdout",
     "output_type": "stream",
     "text": [
      "Epoch 1/50\n",
      "124/124 [==============================] - 0s 1ms/sample - loss: 1.0870 - acc: 0.3226\n",
      "Epoch 2/50\n",
      "124/124 [==============================] - 0s 60us/sample - loss: 1.0737 - acc: 0.4274\n",
      "Epoch 3/50\n",
      "124/124 [==============================] - 0s 146us/sample - loss: 1.0619 - acc: 0.5000\n",
      "Epoch 4/50\n",
      "124/124 [==============================] - 0s 139us/sample - loss: 1.0498 - acc: 0.5403\n",
      "Epoch 5/50\n",
      "124/124 [==============================] - 0s 129us/sample - loss: 1.0377 - acc: 0.5968\n",
      "Epoch 6/50\n",
      "124/124 [==============================] - 0s 127us/sample - loss: 1.0263 - acc: 0.6048\n",
      "Epoch 7/50\n",
      "124/124 [==============================] - 0s 64us/sample - loss: 1.0147 - acc: 0.6129\n",
      "Epoch 8/50\n",
      "124/124 [==============================] - 0s 66us/sample - loss: 1.0034 - acc: 0.6452\n",
      "Epoch 9/50\n",
      "124/124 [==============================] - 0s 100us/sample - loss: 0.9907 - acc: 0.6694\n",
      "Epoch 10/50\n",
      "124/124 [==============================] - 0s 84us/sample - loss: 0.9767 - acc: 0.6694\n",
      "Epoch 11/50\n",
      "124/124 [==============================] - 0s 85us/sample - loss: 0.9625 - acc: 0.6694\n",
      "Epoch 12/50\n",
      "124/124 [==============================] - 0s 126us/sample - loss: 0.9481 - acc: 0.6774\n",
      "Epoch 13/50\n",
      "124/124 [==============================] - 0s 118us/sample - loss: 0.9320 - acc: 0.6774\n",
      "Epoch 14/50\n",
      "124/124 [==============================] - 0s 87us/sample - loss: 0.9149 - acc: 0.6774\n",
      "Epoch 15/50\n",
      "124/124 [==============================] - 0s 64us/sample - loss: 0.8976 - acc: 0.6774\n",
      "Epoch 16/50\n",
      "124/124 [==============================] - 0s 56us/sample - loss: 0.8796 - acc: 0.6774\n",
      "Epoch 17/50\n",
      "124/124 [==============================] - 0s 97us/sample - loss: 0.8606 - acc: 0.6774\n",
      "Epoch 18/50\n",
      "124/124 [==============================] - 0s 51us/sample - loss: 0.8408 - acc: 0.6855\n",
      "Epoch 19/50\n",
      "124/124 [==============================] - 0s 55us/sample - loss: 0.8199 - acc: 0.7016\n",
      "Epoch 20/50\n",
      "124/124 [==============================] - 0s 64us/sample - loss: 0.7971 - acc: 0.7097\n",
      "Epoch 21/50\n",
      "124/124 [==============================] - 0s 73us/sample - loss: 0.7740 - acc: 0.7339\n",
      "Epoch 22/50\n",
      "124/124 [==============================] - 0s 59us/sample - loss: 0.7497 - acc: 0.7581\n",
      "Epoch 23/50\n",
      "124/124 [==============================] - 0s 72us/sample - loss: 0.7245 - acc: 0.7742\n",
      "Epoch 24/50\n",
      "124/124 [==============================] - 0s 58us/sample - loss: 0.6984 - acc: 0.7984\n",
      "Epoch 25/50\n",
      "124/124 [==============================] - 0s 61us/sample - loss: 0.6724 - acc: 0.8145\n",
      "Epoch 26/50\n",
      "124/124 [==============================] - 0s 62us/sample - loss: 0.6459 - acc: 0.8226\n",
      "Epoch 27/50\n",
      "124/124 [==============================] - 0s 80us/sample - loss: 0.6201 - acc: 0.8306\n",
      "Epoch 28/50\n",
      "124/124 [==============================] - 0s 70us/sample - loss: 0.5935 - acc: 0.8548\n",
      "Epoch 29/50\n",
      "124/124 [==============================] - 0s 89us/sample - loss: 0.5689 - acc: 0.8871\n",
      "Epoch 30/50\n",
      "124/124 [==============================] - 0s 55us/sample - loss: 0.5442 - acc: 0.9032\n",
      "Epoch 31/50\n",
      "124/124 [==============================] - 0s 114us/sample - loss: 0.5180 - acc: 0.9274\n",
      "Epoch 32/50\n",
      "124/124 [==============================] - 0s 77us/sample - loss: 0.4945 - acc: 0.9435\n",
      "Epoch 33/50\n",
      "124/124 [==============================] - 0s 72us/sample - loss: 0.4713 - acc: 0.9435\n",
      "Epoch 34/50\n",
      "124/124 [==============================] - 0s 51us/sample - loss: 0.4474 - acc: 0.9597\n",
      "Epoch 35/50\n",
      "124/124 [==============================] - 0s 83us/sample - loss: 0.4251 - acc: 0.9597\n",
      "Epoch 36/50\n",
      "124/124 [==============================] - 0s 87us/sample - loss: 0.4024 - acc: 0.9597\n",
      "Epoch 37/50\n",
      "124/124 [==============================] - 0s 67us/sample - loss: 0.3810 - acc: 0.9677\n",
      "Epoch 38/50\n",
      "124/124 [==============================] - 0s 95us/sample - loss: 0.3613 - acc: 0.9516\n",
      "Epoch 39/50\n",
      "124/124 [==============================] - 0s 61us/sample - loss: 0.3403 - acc: 0.9435\n",
      "Epoch 40/50\n",
      "124/124 [==============================] - 0s 68us/sample - loss: 0.3207 - acc: 0.9758\n",
      "Epoch 41/50\n",
      "124/124 [==============================] - 0s 61us/sample - loss: 0.3030 - acc: 0.9758\n",
      "Epoch 42/50\n",
      "124/124 [==============================] - 0s 83us/sample - loss: 0.2852 - acc: 0.9839\n",
      "Epoch 43/50\n",
      "124/124 [==============================] - 0s 50us/sample - loss: 0.2682 - acc: 0.9839\n",
      "Epoch 44/50\n",
      "124/124 [==============================] - 0s 60us/sample - loss: 0.2530 - acc: 0.9839\n",
      "Epoch 45/50\n",
      "124/124 [==============================] - 0s 47us/sample - loss: 0.2393 - acc: 0.9677\n",
      "Epoch 46/50\n",
      "124/124 [==============================] - 0s 75us/sample - loss: 0.2272 - acc: 0.9758\n",
      "Epoch 47/50\n",
      "124/124 [==============================] - 0s 71us/sample - loss: 0.2138 - acc: 0.9758\n",
      "Epoch 48/50\n",
      "124/124 [==============================] - 0s 59us/sample - loss: 0.2027 - acc: 0.9758\n",
      "Epoch 49/50\n",
      "124/124 [==============================] - 0s 64us/sample - loss: 0.1931 - acc: 0.9758\n",
      "Epoch 50/50\n",
      "124/124 [==============================] - 0s 65us/sample - loss: 0.1842 - acc: 0.9758\n"
     ]
    },
    {
     "data": {
      "text/plain": [
       "<tensorflow.python.keras.callbacks.History at 0x12bbc3e10>"
      ]
     },
     "execution_count": 23,
     "metadata": {},
     "output_type": "execute_result"
    }
   ],
   "source": [
    "dnn_keras_model.fit(scaled_x_train, y_train, epochs=50)"
   ]
  },
  {
   "cell_type": "code",
   "execution_count": 24,
   "metadata": {},
   "outputs": [],
   "source": [
    "predictions = dnn_keras_model.predict_classes(scaled_x_test)"
   ]
  },
  {
   "cell_type": "code",
   "execution_count": 25,
   "metadata": {},
   "outputs": [],
   "source": [
    "from sklearn.metrics import classification_report"
   ]
  },
  {
   "cell_type": "code",
   "execution_count": 26,
   "metadata": {},
   "outputs": [
    {
     "name": "stdout",
     "output_type": "stream",
     "text": [
      "              precision    recall  f1-score   support\n",
      "\n",
      "           0       0.89      0.94      0.92        18\n",
      "           1       0.95      0.91      0.93        23\n",
      "           2       1.00      1.00      1.00        13\n",
      "\n",
      "    accuracy                           0.94        54\n",
      "   macro avg       0.95      0.95      0.95        54\n",
      "weighted avg       0.95      0.94      0.94        54\n",
      "\n"
     ]
    }
   ],
   "source": [
    "print(classification_report(predictions, y_test))"
   ]
  }
 ],
 "metadata": {
  "kernelspec": {
   "display_name": "Python 3",
   "language": "python",
   "name": "python3"
  },
  "language_info": {
   "codemirror_mode": {
    "name": "ipython",
    "version": 3
   },
   "file_extension": ".py",
   "mimetype": "text/x-python",
   "name": "python",
   "nbconvert_exporter": "python",
   "pygments_lexer": "ipython3",
   "version": "3.7.2"
  }
 },
 "nbformat": 4,
 "nbformat_minor": 2
}
